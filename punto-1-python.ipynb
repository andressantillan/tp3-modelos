{
 "cells": [
  {
   "cell_type": "code",
   "execution_count": 9,
   "id": "b79c5de6",
   "metadata": {},
   "outputs": [],
   "source": [
    "# numpy se usa para generar los numeros aleatorios siguiendo una distribucion probabilistica\n",
    "# matplotlib se usa para generar los graficos\n",
    "import numpy as np\n",
    "import matplotlib.pyplot as plt"
   ]
  },
  {
   "cell_type": "code",
   "execution_count": 20,
   "id": "53309da3",
   "metadata": {},
   "outputs": [],
   "source": [
    "# Se genera un arreglo de 100 numeros aleatorios\n",
    "# Siguiendo distribucion exponencial\n",
    "numbers = np.random.exponential(3, 100)"
   ]
  },
  {
   "cell_type": "code",
   "execution_count": 21,
   "id": "f557199a",
   "metadata": {},
   "outputs": [
    {
     "name": "stdout",
     "output_type": "stream",
     "text": [
      "[6.33574394e+00 1.46175722e+00 7.80626367e-01 7.04035111e-01\n",
      " 1.15846952e+00 1.70217777e+00 6.96917279e+00 4.18439917e+00\n",
      " 2.04084339e-01 1.40719915e+00 4.05095043e+00 3.98284116e-01\n",
      " 4.35028030e+00 1.08988550e+00 6.71753730e+00 4.68582349e+00\n",
      " 2.80630976e+00 4.08383246e+00 7.48531569e-01 3.58437522e+00\n",
      " 1.68148005e+00 2.68974922e-01 1.10625771e+00 1.80212442e+00\n",
      " 3.81838885e+00 4.38135139e+00 1.96121308e+00 9.50416404e+00\n",
      " 5.35476199e+00 5.31477874e-01 2.92813589e+00 3.28555274e+00\n",
      " 3.62522669e+00 4.16867554e+00 2.69282810e+00 4.78787571e+00\n",
      " 5.03391663e+00 1.01487862e+00 6.43059563e+00 1.54329244e+01\n",
      " 5.09023910e+00 1.32153419e+00 2.29303563e+00 3.54464147e+00\n",
      " 2.59324453e-01 2.31840307e+00 7.27303343e-01 1.30778071e+00\n",
      " 5.66895751e-01 7.64121122e+00 5.54259054e-01 1.09813509e+01\n",
      " 9.72008792e-01 5.72308308e-01 5.29556984e+00 1.96504224e+00\n",
      " 2.36911691e-01 1.46666750e+00 1.08436056e+01 6.81129184e-01\n",
      " 8.27981143e-01 3.53722087e+00 2.09190880e+00 2.83655688e+00\n",
      " 2.63163342e+00 7.62112657e-01 1.79836309e+01 4.10763153e+00\n",
      " 1.82589007e+00 3.04319272e+00 1.98241555e-01 6.42114422e+00\n",
      " 1.55674227e+00 1.11822314e-02 1.22682431e+00 2.09422551e-01\n",
      " 1.41283506e+00 9.89018448e-01 5.56526904e+00 4.43826774e+00\n",
      " 4.96882664e+00 7.62878209e-02 6.95744288e+00 1.07895493e+00\n",
      " 1.07611644e+00 1.40098990e+00 1.02215853e-01 4.04106558e+00\n",
      " 9.13240064e-01 1.28055401e+00 9.72497542e-01 2.60027042e+00\n",
      " 3.35367937e+00 6.55698304e+00 1.41040191e+00 1.47634970e+00\n",
      " 1.36288518e+00 1.93291531e+01 1.13866252e+00 4.87071135e+00]\n"
     ]
    }
   ],
   "source": [
    "print(numbers)"
   ]
  },
  {
   "cell_type": "code",
   "execution_count": 22,
   "id": "85938691",
   "metadata": {},
   "outputs": [
    {
     "data": {
      "text/plain": [
       "(array([49., 19., 18.,  8.,  1.,  2.,  0.,  1.,  0.,  2.]),\n",
       " array([1.11822314e-02, 1.94297932e+00, 3.87477641e+00, 5.80657351e+00,\n",
       "        7.73837060e+00, 9.67016769e+00, 1.16019648e+01, 1.35337619e+01,\n",
       "        1.54655590e+01, 1.73973561e+01, 1.93291531e+01]),\n",
       " <BarContainer object of 10 artists>)"
      ]
     },
     "execution_count": 22,
     "metadata": {},
     "output_type": "execute_result"
    },
    {
     "data": {
      "image/png": "[encoded data removed]",
      "text/plain": [
       "<Figure size 640x480 with 1 Axes>"
      ]
     },
     "metadata": {},
     "output_type": "display_data"
    }
   ],
   "source": [
    "plt.hist(numbers)"
   ]
  },
  {
   "cell_type": "code",
   "execution_count": null,
   "id": "e2bed7c1",
   "metadata": {},
   "outputs": [],
   "source": []
  }
 ],
 "metadata": {
  "kernelspec": {
   "display_name": "Python 3 (ipykernel)",
   "language": "python",
   "name": "python3"
  },
  "language_info": {
   "codemirror_mode": {
    "name": "ipython",
    "version": 3
   },
   "file_extension": ".py",
   "mimetype": "text/x-python",
   "name": "python",
   "nbconvert_exporter": "python",
   "pygments_lexer": "ipython3",
   "version": "3.10.1"
  }
 },
 "nbformat": 4,
 "nbformat_minor": 5
}
